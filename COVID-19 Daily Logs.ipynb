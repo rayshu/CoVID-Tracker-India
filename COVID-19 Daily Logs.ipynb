{
 "cells": [
  {
   "cell_type": "code",
   "execution_count": 32,
   "metadata": {},
   "outputs": [],
   "source": [
    "import requests\n",
    "from bs4 import BeautifulSoup\n",
    "import pandas as pd\n",
    "import csv"
   ]
  },
  {
   "cell_type": "code",
   "execution_count": 2,
   "metadata": {},
   "outputs": [],
   "source": [
    "url='https://docs.google.com/spreadsheets/d/e/2PACX-1vSc_2y5N0I67wDU38DjDh35IZSIS30rQf7_NYZhtYYGU1jJYT6_kDx4YpF-qw0LSlGsBYP8pqM_a1Pd/pubhtml#'"
   ]
  },
  {
   "cell_type": "code",
   "execution_count": 3,
   "metadata": {},
   "outputs": [],
   "source": [
    "res = requests.get(url)\n",
    "soup = BeautifulSoup(res.content, \"lxml\")\n",
    "# print(soup.prettify)"
   ]
  },
  {
   "cell_type": "code",
   "execution_count": 4,
   "metadata": {},
   "outputs": [],
   "source": [
    "table = soup.findAll(\"table\")\n",
    "output_rows = []\n",
    "for table_row in table[3].findAll('tr'):\n",
    "    columns = table_row.findAll('td')\n",
    "    output_row = []\n",
    "    for column in columns:\n",
    "        output_row.append(column.text)\n",
    "    output_rows.append(output_row)"
   ]
  },
  {
   "cell_type": "code",
   "execution_count": 7,
   "metadata": {},
   "outputs": [
    {
     "data": {
      "text/plain": [
       "['Date',\n",
       " 'Daily Confirmed',\n",
       " 'Total Confirmed',\n",
       " 'Daily Recovered',\n",
       " 'Total Recovered',\n",
       " 'Daily Deceased',\n",
       " 'Total Deceased']"
      ]
     },
     "execution_count": 7,
     "metadata": {},
     "output_type": "execute_result"
    }
   ],
   "source": [
    "head = []\n",
    "for string in output_rows[1]:\n",
    "    if (string != \"\"):\n",
    "        head.append(string)\n",
    "head"
   ]
  },
  {
   "cell_type": "code",
   "execution_count": 15,
   "metadata": {},
   "outputs": [
    {
     "data": {
      "text/plain": [
       "['30 January ', '1', '1', '0', '0', '0', '0']"
      ]
     },
     "execution_count": 15,
     "metadata": {},
     "output_type": "execute_result"
    }
   ],
   "source": [
    "output_rows[2]"
   ]
  },
  {
   "cell_type": "code",
   "execution_count": 28,
   "metadata": {},
   "outputs": [],
   "source": [
    "dates = []\n",
    "Daily_Confirmed = []\n",
    "Total_Confirmed = []\n",
    "Daily_Recovered = []\n",
    "Total_Recovered = []\n",
    "Daily_Death = []\n",
    "Total_Death = []\n",
    "\n",
    "\n",
    "for i in range(2, len(output_rows)):\n",
    "    if(i == 3):\n",
    "        continue\n",
    "    dates.append(output_rows[i][0])\n",
    "\n",
    "for i in range(2, len(output_rows)):\n",
    "    if(i == 3):\n",
    "        continue\n",
    "    Daily_Confirmed.append(output_rows[i][1])\n",
    "        \n",
    "for i in range(2, len(output_rows)):\n",
    "    if(i == 3):\n",
    "        continue\n",
    "    Total_Confirmed.append(output_rows[i][2])\n",
    "    \n",
    "for i in range(2, len(output_rows)):\n",
    "    if(i == 3):\n",
    "        continue\n",
    "    Daily_Recovered.append(output_rows[i][3])\n",
    "\n",
    "for i in range(2, len(output_rows)):\n",
    "    if(i == 3):\n",
    "        continue\n",
    "    Total_Recovered.append(output_rows[i][4])\n",
    "    \n",
    "for i in range(2, len(output_rows)):\n",
    "    if(i == 3):\n",
    "        continue\n",
    "    Daily_Death.append(output_rows[i][5])\n",
    "\n",
    "for i in range(2, len(output_rows)):\n",
    "    if(i == 3):\n",
    "        continue\n",
    "    Total_Death.append(output_rows[i][6])\n",
    "    \n"
   ]
  },
  {
   "cell_type": "code",
   "execution_count": 29,
   "metadata": {},
   "outputs": [
    {
     "data": {
      "text/html": [
       "<div>\n",
       "<style scoped>\n",
       "    .dataframe tbody tr th:only-of-type {\n",
       "        vertical-align: middle;\n",
       "    }\n",
       "\n",
       "    .dataframe tbody tr th {\n",
       "        vertical-align: top;\n",
       "    }\n",
       "\n",
       "    .dataframe thead th {\n",
       "        text-align: right;\n",
       "    }\n",
       "</style>\n",
       "<table border=\"1\" class=\"dataframe\">\n",
       "  <thead>\n",
       "    <tr style=\"text-align: right;\">\n",
       "      <th></th>\n",
       "      <th>Date</th>\n",
       "      <th>Daily Confirmed</th>\n",
       "      <th>Total Confirmed</th>\n",
       "      <th>Daily Recovered</th>\n",
       "      <th>Total Recovered</th>\n",
       "      <th>Daily Deceased</th>\n",
       "      <th>Total Deceased</th>\n",
       "      <th>Active</th>\n",
       "    </tr>\n",
       "  </thead>\n",
       "  <tbody>\n",
       "    <tr>\n",
       "      <th>0</th>\n",
       "      <td>30 January</td>\n",
       "      <td>1</td>\n",
       "      <td>1</td>\n",
       "      <td>0</td>\n",
       "      <td>0</td>\n",
       "      <td>0</td>\n",
       "      <td>0</td>\n",
       "      <td>1</td>\n",
       "    </tr>\n",
       "    <tr>\n",
       "      <th>1</th>\n",
       "      <td>31 January</td>\n",
       "      <td>0</td>\n",
       "      <td>1</td>\n",
       "      <td>0</td>\n",
       "      <td>0</td>\n",
       "      <td>0</td>\n",
       "      <td>0</td>\n",
       "      <td>1</td>\n",
       "    </tr>\n",
       "    <tr>\n",
       "      <th>2</th>\n",
       "      <td>01 February</td>\n",
       "      <td>0</td>\n",
       "      <td>1</td>\n",
       "      <td>0</td>\n",
       "      <td>0</td>\n",
       "      <td>0</td>\n",
       "      <td>0</td>\n",
       "      <td>1</td>\n",
       "    </tr>\n",
       "    <tr>\n",
       "      <th>3</th>\n",
       "      <td>02 February</td>\n",
       "      <td>1</td>\n",
       "      <td>2</td>\n",
       "      <td>0</td>\n",
       "      <td>0</td>\n",
       "      <td>0</td>\n",
       "      <td>0</td>\n",
       "      <td>2</td>\n",
       "    </tr>\n",
       "    <tr>\n",
       "      <th>4</th>\n",
       "      <td>03 February</td>\n",
       "      <td>1</td>\n",
       "      <td>3</td>\n",
       "      <td>0</td>\n",
       "      <td>0</td>\n",
       "      <td>0</td>\n",
       "      <td>0</td>\n",
       "      <td>3</td>\n",
       "    </tr>\n",
       "    <tr>\n",
       "      <th>...</th>\n",
       "      <td>...</td>\n",
       "      <td>...</td>\n",
       "      <td>...</td>\n",
       "      <td>...</td>\n",
       "      <td>...</td>\n",
       "      <td>...</td>\n",
       "      <td>...</td>\n",
       "      <td>...</td>\n",
       "    </tr>\n",
       "    <tr>\n",
       "      <th>56</th>\n",
       "      <td>26 March</td>\n",
       "      <td>78</td>\n",
       "      <td>735</td>\n",
       "      <td>7</td>\n",
       "      <td>50</td>\n",
       "      <td>5</td>\n",
       "      <td>16</td>\n",
       "      <td>669</td>\n",
       "    </tr>\n",
       "    <tr>\n",
       "      <th>57</th>\n",
       "      <td>27 March</td>\n",
       "      <td>151</td>\n",
       "      <td>886</td>\n",
       "      <td>25</td>\n",
       "      <td>75</td>\n",
       "      <td>3</td>\n",
       "      <td>19</td>\n",
       "      <td>792</td>\n",
       "    </tr>\n",
       "    <tr>\n",
       "      <th>58</th>\n",
       "      <td>28 March</td>\n",
       "      <td>143</td>\n",
       "      <td>1029</td>\n",
       "      <td>10</td>\n",
       "      <td>85</td>\n",
       "      <td>5</td>\n",
       "      <td>24</td>\n",
       "      <td>920</td>\n",
       "    </tr>\n",
       "    <tr>\n",
       "      <th>59</th>\n",
       "      <td>29 March</td>\n",
       "      <td>110</td>\n",
       "      <td>1139</td>\n",
       "      <td>17</td>\n",
       "      <td>102</td>\n",
       "      <td>3</td>\n",
       "      <td>27</td>\n",
       "      <td>1010</td>\n",
       "    </tr>\n",
       "    <tr>\n",
       "      <th>60</th>\n",
       "      <td>30 March</td>\n",
       "      <td>208</td>\n",
       "      <td>1347</td>\n",
       "      <td>35</td>\n",
       "      <td>137</td>\n",
       "      <td>16</td>\n",
       "      <td>43</td>\n",
       "      <td>1167</td>\n",
       "    </tr>\n",
       "  </tbody>\n",
       "</table>\n",
       "<p>61 rows × 8 columns</p>\n",
       "</div>"
      ],
      "text/plain": [
       "            Date Daily Confirmed Total Confirmed Daily Recovered  \\\n",
       "0    30 January                1               1               0   \n",
       "1    31 January                0               1               0   \n",
       "2   01 February                0               1               0   \n",
       "3   02 February                1               2               0   \n",
       "4   03 February                1               3               0   \n",
       "..           ...             ...             ...             ...   \n",
       "56     26 March               78             735               7   \n",
       "57     27 March              151             886              25   \n",
       "58     28 March              143            1029              10   \n",
       "59     29 March              110            1139              17   \n",
       "60     30 March              208            1347              35   \n",
       "\n",
       "   Total Recovered Daily Deceased Total Deceased  Active  \n",
       "0                0              0              0       1  \n",
       "1                0              0              0       1  \n",
       "2                0              0              0       1  \n",
       "3                0              0              0       2  \n",
       "4                0              0              0       3  \n",
       "..             ...            ...            ...     ...  \n",
       "56              50              5             16     669  \n",
       "57              75              3             19     792  \n",
       "58              85              5             24     920  \n",
       "59             102              3             27    1010  \n",
       "60             137             16             43    1167  \n",
       "\n",
       "[61 rows x 8 columns]"
      ]
     },
     "execution_count": 29,
     "metadata": {},
     "output_type": "execute_result"
    }
   ],
   "source": [
    "dict = {head[0]: dates,\n",
    "        head[1]: Daily_Confirmed, \n",
    "        head[2]: Total_Confirmed,\n",
    "        head[3]: Daily_Recovered,\n",
    "        head[4]: Total_Recovered,\n",
    "        head[5]: Daily_Death,\n",
    "        head[6]: Total_Death\n",
    "        } \n",
    "CoVID_df = pd.DataFrame(dict)\n",
    "CoVID_df = CoVID_df[CoVID_df['Date'].astype(bool)]  \n",
    "CoVID_df['Active'] = CoVID_df['Total Confirmed'].astype(int) - (CoVID_df['Total Recovered'].astype(int) + CoVID_df['Total Deceased'].astype(int)) \n",
    "CoVID_df"
   ]
  },
  {
   "cell_type": "code",
   "execution_count": 30,
   "metadata": {},
   "outputs": [],
   "source": [
    "# last_version = pd.read_csv('COVID_Daily_Count.csv')\n",
    "# last_version.to_csv('COVIDStatewiseCount'+str(date.today())+'.csv')\n",
    "CoVID_df.to_csv('COVID_Daily_Count.csv', index=False)"
   ]
  },
  {
   "cell_type": "code",
   "execution_count": 31,
   "metadata": {},
   "outputs": [
    {
     "name": "stdout",
     "output_type": "stream",
     "text": [
      "[{\"Date\":\"30 January \",\"Daily Confirmed\":\"1\",\"Total Confirmed\":\"1\",\"Daily Recovered\":\"0\",\"Total Recovered\":\"0\",\"Daily Deceased\":\"0\",\"Total Deceased\":\"0\",\"Active\":1},{\"Date\":\"31 January \",\"Daily Confirmed\":\"0\",\"Total Confirmed\":\"1\",\"Daily Recovered\":\"0\",\"Total Recovered\":\"0\",\"Daily Deceased\":\"0\",\"Total Deceased\":\"0\",\"Active\":1},{\"Date\":\"01 February \",\"Daily Confirmed\":\"0\",\"Total Confirmed\":\"1\",\"Daily Recovered\":\"0\",\"Total Recovered\":\"0\",\"Daily Deceased\":\"0\",\"Total Deceased\":\"0\",\"Active\":1},{\"Date\":\"02 February \",\"Daily Confirmed\":\"1\",\"Total Confirmed\":\"2\",\"Daily Recovered\":\"0\",\"Total Recovered\":\"0\",\"Daily Deceased\":\"0\",\"Total Deceased\":\"0\",\"Active\":2},{\"Date\":\"03 February \",\"Daily Confirmed\":\"1\",\"Total Confirmed\":\"3\",\"Daily Recovered\":\"0\",\"Total Recovered\":\"0\",\"Daily Deceased\":\"0\",\"Total Deceased\":\"0\",\"Active\":3},{\"Date\":\"04 February \",\"Daily Confirmed\":\"0\",\"Total Confirmed\":\"3\",\"Daily Recovered\":\"0\",\"Total Recovered\":\"0\",\"Daily Deceased\":\"0\",\"Total Deceased\":\"0\",\"Active\":3},{\"Date\":\"05 February \",\"Daily Confirmed\":\"0\",\"Total Confirmed\":\"3\",\"Daily Recovered\":\"0\",\"Total Recovered\":\"0\",\"Daily Deceased\":\"0\",\"Total Deceased\":\"0\",\"Active\":3},{\"Date\":\"06 February \",\"Daily Confirmed\":\"0\",\"Total Confirmed\":\"3\",\"Daily Recovered\":\"0\",\"Total Recovered\":\"0\",\"Daily Deceased\":\"0\",\"Total Deceased\":\"0\",\"Active\":3},{\"Date\":\"07 February \",\"Daily Confirmed\":\"0\",\"Total Confirmed\":\"3\",\"Daily Recovered\":\"0\",\"Total Recovered\":\"0\",\"Daily Deceased\":\"0\",\"Total Deceased\":\"0\",\"Active\":3},{\"Date\":\"08 February \",\"Daily Confirmed\":\"0\",\"Total Confirmed\":\"3\",\"Daily Recovered\":\"0\",\"Total Recovered\":\"0\",\"Daily Deceased\":\"0\",\"Total Deceased\":\"0\",\"Active\":3},{\"Date\":\"09 February \",\"Daily Confirmed\":\"0\",\"Total Confirmed\":\"3\",\"Daily Recovered\":\"0\",\"Total Recovered\":\"0\",\"Daily Deceased\":\"0\",\"Total Deceased\":\"0\",\"Active\":3},{\"Date\":\"10 February \",\"Daily Confirmed\":\"0\",\"Total Confirmed\":\"3\",\"Daily Recovered\":\"0\",\"Total Recovered\":\"0\",\"Daily Deceased\":\"0\",\"Total Deceased\":\"0\",\"Active\":3},{\"Date\":\"11 February \",\"Daily Confirmed\":\"0\",\"Total Confirmed\":\"3\",\"Daily Recovered\":\"0\",\"Total Recovered\":\"0\",\"Daily Deceased\":\"0\",\"Total Deceased\":\"0\",\"Active\":3},{\"Date\":\"12 February \",\"Daily Confirmed\":\"0\",\"Total Confirmed\":\"3\",\"Daily Recovered\":\"0\",\"Total Recovered\":\"0\",\"Daily Deceased\":\"0\",\"Total Deceased\":\"0\",\"Active\":3},{\"Date\":\"13 February \",\"Daily Confirmed\":\"0\",\"Total Confirmed\":\"3\",\"Daily Recovered\":\"1\",\"Total Recovered\":\"1\",\"Daily Deceased\":\"0\",\"Total Deceased\":\"0\",\"Active\":2},{\"Date\":\"14 February \",\"Daily Confirmed\":\"0\",\"Total Confirmed\":\"3\",\"Daily Recovered\":\"0\",\"Total Recovered\":\"1\",\"Daily Deceased\":\"0\",\"Total Deceased\":\"0\",\"Active\":2},{\"Date\":\"15 February \",\"Daily Confirmed\":\"0\",\"Total Confirmed\":\"3\",\"Daily Recovered\":\"0\",\"Total Recovered\":\"1\",\"Daily Deceased\":\"0\",\"Total Deceased\":\"0\",\"Active\":2},{\"Date\":\"16 February \",\"Daily Confirmed\":\"0\",\"Total Confirmed\":\"3\",\"Daily Recovered\":\"1\",\"Total Recovered\":\"2\",\"Daily Deceased\":\"0\",\"Total Deceased\":\"0\",\"Active\":1},{\"Date\":\"17 February \",\"Daily Confirmed\":\"0\",\"Total Confirmed\":\"3\",\"Daily Recovered\":\"0\",\"Total Recovered\":\"2\",\"Daily Deceased\":\"0\",\"Total Deceased\":\"0\",\"Active\":1},{\"Date\":\"18 February \",\"Daily Confirmed\":\"0\",\"Total Confirmed\":\"3\",\"Daily Recovered\":\"0\",\"Total Recovered\":\"2\",\"Daily Deceased\":\"0\",\"Total Deceased\":\"0\",\"Active\":1},{\"Date\":\"19 February \",\"Daily Confirmed\":\"0\",\"Total Confirmed\":\"3\",\"Daily Recovered\":\"0\",\"Total Recovered\":\"2\",\"Daily Deceased\":\"0\",\"Total Deceased\":\"0\",\"Active\":1},{\"Date\":\"20 February \",\"Daily Confirmed\":\"0\",\"Total Confirmed\":\"3\",\"Daily Recovered\":\"1\",\"Total Recovered\":\"3\",\"Daily Deceased\":\"0\",\"Total Deceased\":\"0\",\"Active\":0},{\"Date\":\"21 February \",\"Daily Confirmed\":\"0\",\"Total Confirmed\":\"3\",\"Daily Recovered\":\"0\",\"Total Recovered\":\"3\",\"Daily Deceased\":\"0\",\"Total Deceased\":\"0\",\"Active\":0},{\"Date\":\"22 February \",\"Daily Confirmed\":\"0\",\"Total Confirmed\":\"3\",\"Daily Recovered\":\"0\",\"Total Recovered\":\"3\",\"Daily Deceased\":\"0\",\"Total Deceased\":\"0\",\"Active\":0},{\"Date\":\"23 February \",\"Daily Confirmed\":\"0\",\"Total Confirmed\":\"3\",\"Daily Recovered\":\"0\",\"Total Recovered\":\"3\",\"Daily Deceased\":\"0\",\"Total Deceased\":\"0\",\"Active\":0},{\"Date\":\"24 February \",\"Daily Confirmed\":\"0\",\"Total Confirmed\":\"3\",\"Daily Recovered\":\"0\",\"Total Recovered\":\"3\",\"Daily Deceased\":\"0\",\"Total Deceased\":\"0\",\"Active\":0},{\"Date\":\"25 February \",\"Daily Confirmed\":\"0\",\"Total Confirmed\":\"3\",\"Daily Recovered\":\"0\",\"Total Recovered\":\"3\",\"Daily Deceased\":\"0\",\"Total Deceased\":\"0\",\"Active\":0},{\"Date\":\"26 February \",\"Daily Confirmed\":\"0\",\"Total Confirmed\":\"3\",\"Daily Recovered\":\"0\",\"Total Recovered\":\"3\",\"Daily Deceased\":\"0\",\"Total Deceased\":\"0\",\"Active\":0},{\"Date\":\"27 February \",\"Daily Confirmed\":\"0\",\"Total Confirmed\":\"3\",\"Daily Recovered\":\"0\",\"Total Recovered\":\"3\",\"Daily Deceased\":\"0\",\"Total Deceased\":\"0\",\"Active\":0},{\"Date\":\"28 February \",\"Daily Confirmed\":\"0\",\"Total Confirmed\":\"3\",\"Daily Recovered\":\"0\",\"Total Recovered\":\"3\",\"Daily Deceased\":\"0\",\"Total Deceased\":\"0\",\"Active\":0},{\"Date\":\"29 February \",\"Daily Confirmed\":\"0\",\"Total Confirmed\":\"3\",\"Daily Recovered\":\"0\",\"Total Recovered\":\"3\",\"Daily Deceased\":\"0\",\"Total Deceased\":\"0\",\"Active\":0},{\"Date\":\"01 March \",\"Daily Confirmed\":\"0\",\"Total Confirmed\":\"3\",\"Daily Recovered\":\"0\",\"Total Recovered\":\"3\",\"Daily Deceased\":\"0\",\"Total Deceased\":\"0\",\"Active\":0},{\"Date\":\"02 March \",\"Daily Confirmed\":\"2\",\"Total Confirmed\":\"5\",\"Daily Recovered\":\"0\",\"Total Recovered\":\"3\",\"Daily Deceased\":\"0\",\"Total Deceased\":\"0\",\"Active\":2},{\"Date\":\"03 March \",\"Daily Confirmed\":\"1\",\"Total Confirmed\":\"6\",\"Daily Recovered\":\"0\",\"Total Recovered\":\"3\",\"Daily Deceased\":\"0\",\"Total Deceased\":\"0\",\"Active\":3},{\"Date\":\"04 March \",\"Daily Confirmed\":\"22\",\"Total Confirmed\":\"28\",\"Daily Recovered\":\"0\",\"Total Recovered\":\"3\",\"Daily Deceased\":\"0\",\"Total Deceased\":\"0\",\"Active\":25},{\"Date\":\"05 March \",\"Daily Confirmed\":\"2\",\"Total Confirmed\":\"30\",\"Daily Recovered\":\"0\",\"Total Recovered\":\"3\",\"Daily Deceased\":\"0\",\"Total Deceased\":\"0\",\"Active\":27},{\"Date\":\"06 March \",\"Daily Confirmed\":\"1\",\"Total Confirmed\":\"31\",\"Daily Recovered\":\"0\",\"Total Recovered\":\"3\",\"Daily Deceased\":\"0\",\"Total Deceased\":\"0\",\"Active\":28},{\"Date\":\"07 March \",\"Daily Confirmed\":\"3\",\"Total Confirmed\":\"34\",\"Daily Recovered\":\"0\",\"Total Recovered\":\"3\",\"Daily Deceased\":\"0\",\"Total Deceased\":\"0\",\"Active\":31},{\"Date\":\"08 March \",\"Daily Confirmed\":\"5\",\"Total Confirmed\":\"39\",\"Daily Recovered\":\"0\",\"Total Recovered\":\"3\",\"Daily Deceased\":\"0\",\"Total Deceased\":\"0\",\"Active\":36},{\"Date\":\"09 March \",\"Daily Confirmed\":\"9\",\"Total Confirmed\":\"48\",\"Daily Recovered\":\"0\",\"Total Recovered\":\"3\",\"Daily Deceased\":\"0\",\"Total Deceased\":\"0\",\"Active\":45},{\"Date\":\"10 March \",\"Daily Confirmed\":\"15\",\"Total Confirmed\":\"63\",\"Daily Recovered\":\"1\",\"Total Recovered\":\"4\",\"Daily Deceased\":\"0\",\"Total Deceased\":\"0\",\"Active\":59},{\"Date\":\"11 March \",\"Daily Confirmed\":\"7\",\"Total Confirmed\":\"70\",\"Daily Recovered\":\"0\",\"Total Recovered\":\"4\",\"Daily Deceased\":\"0\",\"Total Deceased\":\"0\",\"Active\":66},{\"Date\":\"12 March \",\"Daily Confirmed\":\"12\",\"Total Confirmed\":\"82\",\"Daily Recovered\":\"0\",\"Total Recovered\":\"4\",\"Daily Deceased\":\"1\",\"Total Deceased\":\"1\",\"Active\":77},{\"Date\":\"13 March \",\"Daily Confirmed\":\"9\",\"Total Confirmed\":\"91\",\"Daily Recovered\":\"6\",\"Total Recovered\":\"10\",\"Daily Deceased\":\"0\",\"Total Deceased\":\"1\",\"Active\":80},{\"Date\":\"14 March \",\"Daily Confirmed\":\"16\",\"Total Confirmed\":\"107\",\"Daily Recovered\":\"0\",\"Total Recovered\":\"10\",\"Daily Deceased\":\"1\",\"Total Deceased\":\"2\",\"Active\":95},{\"Date\":\"15 March \",\"Daily Confirmed\":\"6\",\"Total Confirmed\":\"113\",\"Daily Recovered\":\"3\",\"Total Recovered\":\"13\",\"Daily Deceased\":\"0\",\"Total Deceased\":\"2\",\"Active\":98},{\"Date\":\"16 March \",\"Daily Confirmed\":\"14\",\"Total Confirmed\":\"127\",\"Daily Recovered\":\"1\",\"Total Recovered\":\"14\",\"Daily Deceased\":\"0\",\"Total Deceased\":\"2\",\"Active\":111},{\"Date\":\"17 March \",\"Daily Confirmed\":\"19\",\"Total Confirmed\":\"146\",\"Daily Recovered\":\"1\",\"Total Recovered\":\"15\",\"Daily Deceased\":\"1\",\"Total Deceased\":\"3\",\"Active\":128},{\"Date\":\"18 March \",\"Daily Confirmed\":\"25\",\"Total Confirmed\":\"171\",\"Daily Recovered\":\"0\",\"Total Recovered\":\"15\",\"Daily Deceased\":\"0\",\"Total Deceased\":\"3\",\"Active\":153},{\"Date\":\"19 March \",\"Daily Confirmed\":\"28\",\"Total Confirmed\":\"199\",\"Daily Recovered\":\"5\",\"Total Recovered\":\"20\",\"Daily Deceased\":\"1\",\"Total Deceased\":\"4\",\"Active\":175},{\"Date\":\"20 March \",\"Daily Confirmed\":\"59\",\"Total Confirmed\":\"258\",\"Daily Recovered\":\"3\",\"Total Recovered\":\"23\",\"Daily Deceased\":\"0\",\"Total Deceased\":\"4\",\"Active\":231},{\"Date\":\"21 March \",\"Daily Confirmed\":\"76\",\"Total Confirmed\":\"334\",\"Daily Recovered\":\"0\",\"Total Recovered\":\"23\",\"Daily Deceased\":\"0\",\"Total Deceased\":\"4\",\"Active\":307},{\"Date\":\"22 March \",\"Daily Confirmed\":\"69\",\"Total Confirmed\":\"403\",\"Daily Recovered\":\"0\",\"Total Recovered\":\"23\",\"Daily Deceased\":\"3\",\"Total Deceased\":\"7\",\"Active\":373},{\"Date\":\"23 March \",\"Daily Confirmed\":\"102\",\"Total Confirmed\":\"505\",\"Daily Recovered\":\"2\",\"Total Recovered\":\"25\",\"Daily Deceased\":\"2\",\"Total Deceased\":\"9\",\"Active\":471},{\"Date\":\"24 March \",\"Daily Confirmed\":\"66\",\"Total Confirmed\":\"571\",\"Daily Recovered\":\"15\",\"Total Recovered\":\"40\",\"Daily Deceased\":\"1\",\"Total Deceased\":\"10\",\"Active\":521},{\"Date\":\"25 March \",\"Daily Confirmed\":\"86\",\"Total Confirmed\":\"657\",\"Daily Recovered\":\"3\",\"Total Recovered\":\"43\",\"Daily Deceased\":\"1\",\"Total Deceased\":\"11\",\"Active\":603},{\"Date\":\"26 March \",\"Daily Confirmed\":\"78\",\"Total Confirmed\":\"735\",\"Daily Recovered\":\"7\",\"Total Recovered\":\"50\",\"Daily Deceased\":\"5\",\"Total Deceased\":\"16\",\"Active\":669},{\"Date\":\"27 March \",\"Daily Confirmed\":\"151\",\"Total Confirmed\":\"886\",\"Daily Recovered\":\"25\",\"Total Recovered\":\"75\",\"Daily Deceased\":\"3\",\"Total Deceased\":\"19\",\"Active\":792},{\"Date\":\"28 March \",\"Daily Confirmed\":\"143\",\"Total Confirmed\":\"1029\",\"Daily Recovered\":\"10\",\"Total Recovered\":\"85\",\"Daily Deceased\":\"5\",\"Total Deceased\":\"24\",\"Active\":920},{\"Date\":\"29 March \",\"Daily Confirmed\":\"110\",\"Total Confirmed\":\"1139\",\"Daily Recovered\":\"17\",\"Total Recovered\":\"102\",\"Daily Deceased\":\"3\",\"Total Deceased\":\"27\",\"Active\":1010},{\"Date\":\"30 March \",\"Daily Confirmed\":\"208\",\"Total Confirmed\":\"1347\",\"Daily Recovered\":\"35\",\"Total Recovered\":\"137\",\"Daily Deceased\":\"16\",\"Total Deceased\":\"43\",\"Active\":1167}]\n"
     ]
    }
   ],
   "source": [
    "out = CoVID_df.to_json(orient='records')\n",
    "print(out)\n",
    "with open('COVID Statewise Count.json', 'w+') as f:\n",
    "    f.write(out)"
   ]
  },
  {
   "cell_type": "code",
   "execution_count": null,
   "metadata": {},
   "outputs": [],
   "source": []
  }
 ],
 "metadata": {
  "kernelspec": {
   "display_name": "Python 3",
   "language": "python",
   "name": "python3"
  },
  "language_info": {
   "codemirror_mode": {
    "name": "ipython",
    "version": 3
   },
   "file_extension": ".py",
   "mimetype": "text/x-python",
   "name": "python",
   "nbconvert_exporter": "python",
   "pygments_lexer": "ipython3",
   "version": "3.7.6"
  }
 },
 "nbformat": 4,
 "nbformat_minor": 2
}
